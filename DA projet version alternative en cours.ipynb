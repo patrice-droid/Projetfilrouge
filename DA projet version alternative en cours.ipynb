# Here Line 64 is visible
